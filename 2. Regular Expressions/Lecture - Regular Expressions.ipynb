{
 "cells": [
  {
   "cell_type": "code",
   "execution_count": 3,
   "id": "db7c98e1",
   "metadata": {},
   "outputs": [],
   "source": [
    "import re"
   ]
  },
  {
   "cell_type": "markdown",
   "id": "ab4657bd",
   "metadata": {},
   "source": [
    "# * asterisk/star metacharacter"
   ]
  },
  {
   "cell_type": "code",
   "execution_count": 6,
   "id": "fe5378d7",
   "metadata": {},
   "outputs": [
    {
     "name": "stdout",
     "output_type": "stream",
     "text": [
      "['8', '23', '886', '4567', '78453']\n"
     ]
    }
   ],
   "source": [
    "str1 = \"Numbers are 8,23, 886, 4567, 78453\" \n",
    "# asterisk sign(*) to match 0 or more repetitions \n",
    "\n",
    "result = re.findall(r\"\\d\\d*\", str1) \n",
    "print(result) "
   ]
  },
  {
   "cell_type": "markdown",
   "id": "bbe794ff",
   "metadata": {},
   "source": [
    "# + Plus metacharacter"
   ]
  },
  {
   "cell_type": "code",
   "execution_count": 7,
   "id": "d2bd3260",
   "metadata": {},
   "outputs": [
    {
     "name": "stdout",
     "output_type": "stream",
     "text": [
      "['23', '886', '4567', '78453']\n"
     ]
    }
   ],
   "source": [
    "str2 = \"Numbers are 8,23, 886, 4567, 78453\"\n",
    "# Plus sign(+) to match 1 or more repetitions\n",
    "\n",
    "result2 = re.findall(r\"\\d\\d+\", str1)\n",
    "print(result2)\n"
   ]
  },
  {
   "attachments": {},
   "cell_type": "markdown",
   "id": "a1bcce71",
   "metadata": {},
   "source": [
    "# Metacharacter    *   and    +\n",
    "* Used to match either zero, one or many occurrences\n",
    "+ Used to match either one or many occurrences"
   ]
  },
  {
   "cell_type": "code",
   "execution_count": 8,
   "id": "06f650e2",
   "metadata": {},
   "outputs": [
    {
     "name": "stdout",
     "output_type": "stream",
     "text": [
      "['ct', 'cat']\n",
      "['cat']\n"
     ]
    }
   ],
   "source": [
    "str3 = \"ct likes cat\"\n",
    "\n",
    "result3 = re.findall('ca*t', str3)\n",
    "print(result3)\n",
    "\n",
    "result4 = re.findall('ca+t', str3)\n",
    "print(result4)"
   ]
  },
  {
   "attachments": {},
   "cell_type": "markdown",
   "id": "e2c9b290",
   "metadata": {},
   "source": [
    "# Metacharacter    ?\n",
    "Used to match either one or zero occurrence"
   ]
  },
  {
   "cell_type": "code",
   "execution_count": 9,
   "id": "53662886",
   "metadata": {},
   "outputs": [
    {
     "name": "stdout",
     "output_type": "stream",
     "text": [
      "['copy-', 'copy']\n"
     ]
    }
   ],
   "source": [
    "str4 = \"poppy likes to copy-cat. bobby likes to copy things.\"\n",
    "\n",
    "result5 = re.findall('copy-?', str4)\n",
    "print(result5)"
   ]
  },
  {
   "attachments": {},
   "cell_type": "markdown",
   "id": "c17043ca",
   "metadata": {},
   "source": [
    "# Metacharacter  { }\n",
    "Used to match the occurences based on the specified min and max values"
   ]
  },
  {
   "cell_type": "code",
   "execution_count": 12,
   "id": "78beb738",
   "metadata": {},
   "outputs": [
    {
     "name": "stdout",
     "output_type": "stream",
     "text": [
      "['bok', 'book', 'boook']\n"
     ]
    }
   ],
   "source": [
    "str5 = \"poppy likes to read boks. bobby likes to read books. ronnie likes to read boooks. they all love booooooks\"\n",
    "\n",
    "result6 = re.findall('bo{1,3}k', str5)\n",
    "print(result6)\n",
    "                    "
   ]
  }
 ],
 "metadata": {
  "kernelspec": {
   "display_name": "Python 3 (ipykernel)",
   "language": "python",
   "name": "python3"
  },
  "language_info": {
   "codemirror_mode": {
    "name": "ipython",
    "version": 3
   },
   "file_extension": ".py",
   "mimetype": "text/x-python",
   "name": "python",
   "nbconvert_exporter": "python",
   "pygments_lexer": "ipython3",
   "version": "3.11.5"
  }
 },
 "nbformat": 4,
 "nbformat_minor": 5
}
