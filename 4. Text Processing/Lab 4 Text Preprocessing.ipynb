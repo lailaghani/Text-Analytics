{
 "cells": [
  {
   "cell_type": "markdown",
   "id": "28a37c16",
   "metadata": {},
   "source": [
    "# Step 1: Read the source data"
   ]
  },
  {
   "cell_type": "code",
   "execution_count": 1,
   "id": "4a7bdebb",
   "metadata": {},
   "outputs": [],
   "source": [
    "#import pandas module for creating dataframe\n",
    "import pandas as pd"
   ]
  },
  {
   "cell_type": "code",
   "execution_count": 37,
   "id": "1b5e908d",
   "metadata": {},
   "outputs": [
    {
     "data": {
      "text/html": [
       "<div>\n",
       "<style scoped>\n",
       "    .dataframe tbody tr th:only-of-type {\n",
       "        vertical-align: middle;\n",
       "    }\n",
       "\n",
       "    .dataframe tbody tr th {\n",
       "        vertical-align: top;\n",
       "    }\n",
       "\n",
       "    .dataframe thead th {\n",
       "        text-align: right;\n",
       "    }\n",
       "</style>\n",
       "<table border=\"1\" class=\"dataframe\">\n",
       "  <thead>\n",
       "    <tr style=\"text-align: right;\">\n",
       "      <th></th>\n",
       "      <th>Review</th>\n",
       "    </tr>\n",
       "  </thead>\n",
       "  <tbody>\n",
       "    <tr>\n",
       "      <th>0</th>\n",
       "      <td>I like this books very much!!! It is VERY INTERESTING..</td>\n",
       "    </tr>\n",
       "    <tr>\n",
       "      <th>1</th>\n",
       "      <td>Do not like this book. so boring 2. Too lengthy :-(</td>\n",
       "    </tr>\n",
       "  </tbody>\n",
       "</table>\n",
       "</div>"
      ],
      "text/plain": [
       "                                                    Review\n",
       "0  I like this books very much!!! It is VERY INTERESTING..\n",
       "1      Do not like this book. so boring 2. Too lengthy :-("
      ]
     },
     "execution_count": 37,
     "metadata": {},
     "output_type": "execute_result"
    }
   ],
   "source": [
    "#read CSV into DataFrame\n",
    "data = pd.read_csv(\"Review.csv\")\n",
    "data"
   ]
  },
  {
   "cell_type": "markdown",
   "id": "dfa3d8f4",
   "metadata": {},
   "source": [
    "# Step 2: Remove punctuations and standardize words into lowercases in the documents using string library"
   ]
  },
  {
   "cell_type": "code",
   "execution_count": 7,
   "id": "bd604699",
   "metadata": {},
   "outputs": [],
   "source": [
    "#import string module for string manipulation\n",
    "import string"
   ]
  },
  {
   "cell_type": "code",
   "execution_count": 8,
   "id": "cae97210",
   "metadata": {},
   "outputs": [
    {
     "data": {
      "text/plain": [
       "'!\"#$%&\\'()*+,-./:;<=>?@[\\\\]^_`{|}~'"
      ]
     },
     "execution_count": 8,
     "metadata": {},
     "output_type": "execute_result"
    }
   ],
   "source": [
    "#The constant in string module to remove punctuations\n",
    "string.punctuation"
   ]
  },
  {
   "cell_type": "code",
   "execution_count": 40,
   "id": "7fffbbed",
   "metadata": {},
   "outputs": [],
   "source": [
    "#defining the function to remove punctuations in the documents\n",
    "def remove_punctuation(text):\n",
    "    #punctuationfree = \"\".join([i for i in text if i not in string.punctuation])\n",
    "    #return punctuationfree\n",
    "    # Initialize an empty string to store the result\n",
    "    punctuation_free = \"\"\n",
    "    \n",
    "    # Iterate over each character in the text\n",
    "    for i in text:\n",
    "        # Check if the character is not in the string.punctuation set\n",
    "        if i not in string.punctuation:\n",
    "            # If not, add the character to the result string\n",
    "            punctuation_free += i\n",
    "    \n",
    "    return punctuation_free"
   ]
  },
  {
   "cell_type": "code",
   "execution_count": 41,
   "id": "8f214335",
   "metadata": {},
   "outputs": [
    {
     "data": {
      "text/html": [
       "<div>\n",
       "<style scoped>\n",
       "    .dataframe tbody tr th:only-of-type {\n",
       "        vertical-align: middle;\n",
       "    }\n",
       "\n",
       "    .dataframe tbody tr th {\n",
       "        vertical-align: top;\n",
       "    }\n",
       "\n",
       "    .dataframe thead th {\n",
       "        text-align: right;\n",
       "    }\n",
       "</style>\n",
       "<table border=\"1\" class=\"dataframe\">\n",
       "  <thead>\n",
       "    <tr style=\"text-align: right;\">\n",
       "      <th></th>\n",
       "      <th>Review</th>\n",
       "      <th>clean_punctuation</th>\n",
       "    </tr>\n",
       "  </thead>\n",
       "  <tbody>\n",
       "    <tr>\n",
       "      <th>0</th>\n",
       "      <td>I like this books very much!!! It is VERY INTERESTING..</td>\n",
       "      <td>I like this books very much It is VERY INTERESTING</td>\n",
       "    </tr>\n",
       "    <tr>\n",
       "      <th>1</th>\n",
       "      <td>Do not like this book. so boring 2. Too lengthy :-(</td>\n",
       "      <td>Do not like this book so boring 2 Too lengthy</td>\n",
       "    </tr>\n",
       "  </tbody>\n",
       "</table>\n",
       "</div>"
      ],
      "text/plain": [
       "                                                    Review  \\\n",
       "0  I like this books very much!!! It is VERY INTERESTING..   \n",
       "1      Do not like this book. so boring 2. Too lengthy :-(   \n",
       "\n",
       "                                    clean_punctuation  \n",
       "0  I like this books very much It is VERY INTERESTING  \n",
       "1      Do not like this book so boring 2 Too lengthy   "
      ]
     },
     "execution_count": 41,
     "metadata": {},
     "output_type": "execute_result"
    }
   ],
   "source": [
    "#applying the remove_punctuation function to the 'Review' column and storing the result in a new column 'clean_punctuation'\n",
    "data['clean_punctuation']= data['Review'].apply(remove_punctuation)\n",
    "data"
   ]
  },
  {
   "cell_type": "code",
   "execution_count": 42,
   "id": "3c8bea80",
   "metadata": {},
   "outputs": [
    {
     "data": {
      "text/html": [
       "<div>\n",
       "<style scoped>\n",
       "    .dataframe tbody tr th:only-of-type {\n",
       "        vertical-align: middle;\n",
       "    }\n",
       "\n",
       "    .dataframe tbody tr th {\n",
       "        vertical-align: top;\n",
       "    }\n",
       "\n",
       "    .dataframe thead th {\n",
       "        text-align: right;\n",
       "    }\n",
       "</style>\n",
       "<table border=\"1\" class=\"dataframe\">\n",
       "  <thead>\n",
       "    <tr style=\"text-align: right;\">\n",
       "      <th></th>\n",
       "      <th>Review</th>\n",
       "      <th>clean_punctuation</th>\n",
       "      <th>clean_lower</th>\n",
       "    </tr>\n",
       "  </thead>\n",
       "  <tbody>\n",
       "    <tr>\n",
       "      <th>0</th>\n",
       "      <td>I like this books very much!!! It is VERY INTERESTING..</td>\n",
       "      <td>I like this books very much It is VERY INTERESTING</td>\n",
       "      <td>i like this books very much it is very interesting</td>\n",
       "    </tr>\n",
       "    <tr>\n",
       "      <th>1</th>\n",
       "      <td>Do not like this book. so boring 2. Too lengthy :-(</td>\n",
       "      <td>Do not like this book so boring 2 Too lengthy</td>\n",
       "      <td>do not like this book so boring 2 too lengthy</td>\n",
       "    </tr>\n",
       "  </tbody>\n",
       "</table>\n",
       "</div>"
      ],
      "text/plain": [
       "                                                    Review  \\\n",
       "0  I like this books very much!!! It is VERY INTERESTING..   \n",
       "1      Do not like this book. so boring 2. Too lengthy :-(   \n",
       "\n",
       "                                    clean_punctuation  \\\n",
       "0  I like this books very much It is VERY INTERESTING   \n",
       "1      Do not like this book so boring 2 Too lengthy    \n",
       "\n",
       "                                          clean_lower  \n",
       "0  i like this books very much it is very interesting  \n",
       "1      do not like this book so boring 2 too lengthy   "
      ]
     },
     "execution_count": 42,
     "metadata": {},
     "output_type": "execute_result"
    }
   ],
   "source": [
    "#to standardize the cases in the documents into lower case\n",
    "data['clean_lower']= data['clean_punctuation'].str.lower()\n",
    "data"
   ]
  },
  {
   "cell_type": "markdown",
   "id": "e519c09c",
   "metadata": {},
   "source": [
    "# Step 3: Remove numbers using re.sub ( ) in regular expression library"
   ]
  },
  {
   "cell_type": "code",
   "execution_count": 14,
   "id": "da7ab074",
   "metadata": {},
   "outputs": [],
   "source": [
    "#import regular expression library\n",
    "import re"
   ]
  },
  {
   "cell_type": "code",
   "execution_count": 43,
   "id": "835b7203",
   "metadata": {},
   "outputs": [],
   "source": [
    "#function to remove digit (\\d) or hypens (-) from the documents with an empty string ''\n",
    "def remove_numbers(text):\n",
    "    return re.sub(\"[\\d-]\",'',text)"
   ]
  },
  {
   "cell_type": "code",
   "execution_count": 44,
   "id": "7e528270",
   "metadata": {},
   "outputs": [
    {
     "data": {
      "text/html": [
       "<div>\n",
       "<style scoped>\n",
       "    .dataframe tbody tr th:only-of-type {\n",
       "        vertical-align: middle;\n",
       "    }\n",
       "\n",
       "    .dataframe tbody tr th {\n",
       "        vertical-align: top;\n",
       "    }\n",
       "\n",
       "    .dataframe thead th {\n",
       "        text-align: right;\n",
       "    }\n",
       "</style>\n",
       "<table border=\"1\" class=\"dataframe\">\n",
       "  <thead>\n",
       "    <tr style=\"text-align: right;\">\n",
       "      <th></th>\n",
       "      <th>Review</th>\n",
       "      <th>clean_punctuation</th>\n",
       "      <th>clean_lower</th>\n",
       "      <th>clean_number</th>\n",
       "    </tr>\n",
       "  </thead>\n",
       "  <tbody>\n",
       "    <tr>\n",
       "      <th>0</th>\n",
       "      <td>I like this books very much!!! It is VERY INTERESTING..</td>\n",
       "      <td>I like this books very much It is VERY INTERESTING</td>\n",
       "      <td>i like this books very much it is very interesting</td>\n",
       "      <td>i like this books very much it is very interesting</td>\n",
       "    </tr>\n",
       "    <tr>\n",
       "      <th>1</th>\n",
       "      <td>Do not like this book. so boring 2. Too lengthy :-(</td>\n",
       "      <td>Do not like this book so boring 2 Too lengthy</td>\n",
       "      <td>do not like this book so boring 2 too lengthy</td>\n",
       "      <td>do not like this book so boring  too lengthy</td>\n",
       "    </tr>\n",
       "  </tbody>\n",
       "</table>\n",
       "</div>"
      ],
      "text/plain": [
       "                                                    Review  \\\n",
       "0  I like this books very much!!! It is VERY INTERESTING..   \n",
       "1      Do not like this book. so boring 2. Too lengthy :-(   \n",
       "\n",
       "                                    clean_punctuation  \\\n",
       "0  I like this books very much It is VERY INTERESTING   \n",
       "1      Do not like this book so boring 2 Too lengthy    \n",
       "\n",
       "                                          clean_lower  \\\n",
       "0  i like this books very much it is very interesting   \n",
       "1      do not like this book so boring 2 too lengthy    \n",
       "\n",
       "                                         clean_number  \n",
       "0  i like this books very much it is very interesting  \n",
       "1       do not like this book so boring  too lengthy   "
      ]
     },
     "execution_count": 44,
     "metadata": {},
     "output_type": "execute_result"
    }
   ],
   "source": [
    "#applying the remove_numbers function to the 'clean_lower' column and storing the result in a new column 'clean_number'\n",
    "data['clean_number'] = data['clean_lower'].apply(remove_numbers)\n",
    "data"
   ]
  },
  {
   "cell_type": "markdown",
   "id": "532a5e7a",
   "metadata": {},
   "source": [
    "# Step 4: Break down the words in documents into tokens using nltk library"
   ]
  },
  {
   "cell_type": "code",
   "execution_count": 17,
   "id": "47b1d9c4",
   "metadata": {
    "scrolled": true
   },
   "outputs": [
    {
     "name": "stderr",
     "output_type": "stream",
     "text": [
      "[nltk_data] Downloading package punkt to\n",
      "[nltk_data]     C:\\Users\\laila\\AppData\\Roaming\\nltk_data...\n",
      "[nltk_data]   Unzipping tokenizers\\punkt.zip.\n"
     ]
    },
    {
     "data": {
      "text/plain": [
       "True"
      ]
     },
     "execution_count": 17,
     "metadata": {},
     "output_type": "execute_result"
    }
   ],
   "source": [
    "#import Natural Language Processing (NLP) library called \n",
    "#Natural Language Toolkit (NLTK)\n",
    "import nltk\n",
    "nltk.download('punkt')"
   ]
  },
  {
   "cell_type": "code",
   "execution_count": 18,
   "id": "2b965f1f",
   "metadata": {},
   "outputs": [],
   "source": [
    "# import the library for word tokenization\n",
    "from nltk.tokenize import word_tokenize"
   ]
  },
  {
   "cell_type": "code",
   "execution_count": 45,
   "id": "8d86444a",
   "metadata": {},
   "outputs": [
    {
     "data": {
      "text/html": [
       "<div>\n",
       "<style scoped>\n",
       "    .dataframe tbody tr th:only-of-type {\n",
       "        vertical-align: middle;\n",
       "    }\n",
       "\n",
       "    .dataframe tbody tr th {\n",
       "        vertical-align: top;\n",
       "    }\n",
       "\n",
       "    .dataframe thead th {\n",
       "        text-align: right;\n",
       "    }\n",
       "</style>\n",
       "<table border=\"1\" class=\"dataframe\">\n",
       "  <thead>\n",
       "    <tr style=\"text-align: right;\">\n",
       "      <th></th>\n",
       "      <th>Review</th>\n",
       "      <th>clean_punctuation</th>\n",
       "      <th>clean_lower</th>\n",
       "      <th>clean_number</th>\n",
       "      <th>token_data</th>\n",
       "    </tr>\n",
       "  </thead>\n",
       "  <tbody>\n",
       "    <tr>\n",
       "      <th>0</th>\n",
       "      <td>I like this books very much!!! It is VERY INTERESTING..</td>\n",
       "      <td>I like this books very much It is VERY INTERESTING</td>\n",
       "      <td>i like this books very much it is very interesting</td>\n",
       "      <td>i like this books very much it is very interesting</td>\n",
       "      <td>[i, like, this, books, very, much, it, is, very, interesting]</td>\n",
       "    </tr>\n",
       "    <tr>\n",
       "      <th>1</th>\n",
       "      <td>Do not like this book. so boring 2. Too lengthy :-(</td>\n",
       "      <td>Do not like this book so boring 2 Too lengthy</td>\n",
       "      <td>do not like this book so boring 2 too lengthy</td>\n",
       "      <td>do not like this book so boring  too lengthy</td>\n",
       "      <td>[do, not, like, this, book, so, boring, too, lengthy]</td>\n",
       "    </tr>\n",
       "  </tbody>\n",
       "</table>\n",
       "</div>"
      ],
      "text/plain": [
       "                                                    Review  \\\n",
       "0  I like this books very much!!! It is VERY INTERESTING..   \n",
       "1      Do not like this book. so boring 2. Too lengthy :-(   \n",
       "\n",
       "                                    clean_punctuation  \\\n",
       "0  I like this books very much It is VERY INTERESTING   \n",
       "1      Do not like this book so boring 2 Too lengthy    \n",
       "\n",
       "                                          clean_lower  \\\n",
       "0  i like this books very much it is very interesting   \n",
       "1      do not like this book so boring 2 too lengthy    \n",
       "\n",
       "                                         clean_number  \\\n",
       "0  i like this books very much it is very interesting   \n",
       "1       do not like this book so boring  too lengthy    \n",
       "\n",
       "                                                      token_data  \n",
       "0  [i, like, this, books, very, much, it, is, very, interesting]  \n",
       "1          [do, not, like, this, book, so, boring, too, lengthy]  "
      ]
     },
     "execution_count": 45,
     "metadata": {},
     "output_type": "execute_result"
    }
   ],
   "source": [
    "#the word tokens in the document\n",
    "data['token_data']= data['clean_number'].apply(word_tokenize)\n",
    "data"
   ]
  },
  {
   "cell_type": "markdown",
   "id": "ea01d625",
   "metadata": {},
   "source": [
    "# Step 5: Remove stopwords using nltk library"
   ]
  },
  {
   "cell_type": "code",
   "execution_count": 20,
   "id": "00b1d496",
   "metadata": {},
   "outputs": [
    {
     "name": "stderr",
     "output_type": "stream",
     "text": [
      "[nltk_data] Downloading package stopwords to\n",
      "[nltk_data]     C:\\Users\\laila\\AppData\\Roaming\\nltk_data...\n",
      "[nltk_data]   Unzipping corpora\\stopwords.zip.\n"
     ]
    },
    {
     "data": {
      "text/plain": [
       "True"
      ]
     },
     "execution_count": 20,
     "metadata": {},
     "output_type": "execute_result"
    }
   ],
   "source": [
    "#download stopwords\n",
    "nltk.download('stopwords')"
   ]
  },
  {
   "cell_type": "code",
   "execution_count": 50,
   "id": "6c709d23",
   "metadata": {},
   "outputs": [],
   "source": [
    "#Get the list of English stop words present in the library\n",
    "stopwords = nltk.corpus.stopwords.words('english')"
   ]
  },
  {
   "cell_type": "code",
   "execution_count": 51,
   "id": "8c55b496",
   "metadata": {},
   "outputs": [
    {
     "name": "stdout",
     "output_type": "stream",
     "text": [
      "['i', 'me', 'my', 'myself', 'we', 'our', 'ours', 'ourselves', 'you', \"you're\", \"you've\", \"you'll\", \"you'd\", 'your', 'yours', 'yourself', 'yourselves', 'he', 'him', 'his', 'himself', 'she', \"she's\", 'her', 'hers', 'herself', 'it', \"it's\", 'its', 'itself', 'they', 'them', 'their', 'theirs', 'themselves', 'what', 'which', 'who', 'whom', 'this', 'that', \"that'll\", 'these', 'those', 'am', 'is', 'are', 'was', 'were', 'be', 'been', 'being', 'have', 'has', 'had', 'having', 'do', 'does', 'did', 'doing', 'a', 'an', 'the', 'and', 'but', 'if', 'or', 'because', 'as', 'until', 'while', 'of', 'at', 'by', 'for', 'with', 'about', 'against', 'between', 'into', 'through', 'during', 'before', 'after', 'above', 'below', 'to', 'from', 'up', 'down', 'in', 'out', 'on', 'off', 'over', 'under', 'again', 'further', 'then', 'once', 'here', 'there', 'when', 'where', 'why', 'how', 'all', 'any', 'both', 'each', 'few', 'more', 'most', 'other', 'some', 'such', 'no', 'nor', 'not', 'only', 'own', 'same', 'so', 'than', 'too', 'very', 's', 't', 'can', 'will', 'just', 'don', \"don't\", 'should', \"should've\", 'now', 'd', 'll', 'm', 'o', 're', 've', 'y', 'ain', 'aren', \"aren't\", 'couldn', \"couldn't\", 'didn', \"didn't\", 'doesn', \"doesn't\", 'hadn', \"hadn't\", 'hasn', \"hasn't\", 'haven', \"haven't\", 'isn', \"isn't\", 'ma', 'mightn', \"mightn't\", 'mustn', \"mustn't\", 'needn', \"needn't\", 'shan', \"shan't\", 'shouldn', \"shouldn't\", 'wasn', \"wasn't\", 'weren', \"weren't\", 'won', \"won't\", 'wouldn', \"wouldn't\"]\n"
     ]
    }
   ],
   "source": [
    "# Print the list of stopwords\n",
    "print(stopwords)"
   ]
  },
  {
   "cell_type": "code",
   "execution_count": 52,
   "id": "ba476b3a",
   "metadata": {},
   "outputs": [],
   "source": [
    "#defining the function to remove stopwords from tokenized text\n",
    "def remove_stopwords(text):\n",
    "    output = []\n",
    "    for i in text:\n",
    "        if i not in stopwords:\n",
    "            output.append(i)\n",
    "    return output"
   ]
  },
  {
   "cell_type": "code",
   "execution_count": 54,
   "id": "e46fd11f",
   "metadata": {},
   "outputs": [
    {
     "data": {
      "text/html": [
       "<div>\n",
       "<style scoped>\n",
       "    .dataframe tbody tr th:only-of-type {\n",
       "        vertical-align: middle;\n",
       "    }\n",
       "\n",
       "    .dataframe tbody tr th {\n",
       "        vertical-align: top;\n",
       "    }\n",
       "\n",
       "    .dataframe thead th {\n",
       "        text-align: right;\n",
       "    }\n",
       "</style>\n",
       "<table border=\"1\" class=\"dataframe\">\n",
       "  <thead>\n",
       "    <tr style=\"text-align: right;\">\n",
       "      <th></th>\n",
       "      <th>Review</th>\n",
       "      <th>clean_punctuation</th>\n",
       "      <th>clean_lower</th>\n",
       "      <th>clean_number</th>\n",
       "      <th>token_data</th>\n",
       "      <th>clean_xstopwords</th>\n",
       "    </tr>\n",
       "  </thead>\n",
       "  <tbody>\n",
       "    <tr>\n",
       "      <th>0</th>\n",
       "      <td>I like this books very much!!! It is VERY INTERESTING..</td>\n",
       "      <td>I like this books very much It is VERY INTERESTING</td>\n",
       "      <td>i like this books very much it is very interesting</td>\n",
       "      <td>i like this books very much it is very interesting</td>\n",
       "      <td>[i, like, this, books, very, much, it, is, very, interesting]</td>\n",
       "      <td>[like, books, much, interesting]</td>\n",
       "    </tr>\n",
       "    <tr>\n",
       "      <th>1</th>\n",
       "      <td>Do not like this book. so boring 2. Too lengthy :-(</td>\n",
       "      <td>Do not like this book so boring 2 Too lengthy</td>\n",
       "      <td>do not like this book so boring 2 too lengthy</td>\n",
       "      <td>do not like this book so boring  too lengthy</td>\n",
       "      <td>[do, not, like, this, book, so, boring, too, lengthy]</td>\n",
       "      <td>[like, book, boring, lengthy]</td>\n",
       "    </tr>\n",
       "  </tbody>\n",
       "</table>\n",
       "</div>"
      ],
      "text/plain": [
       "                                                    Review  \\\n",
       "0  I like this books very much!!! It is VERY INTERESTING..   \n",
       "1      Do not like this book. so boring 2. Too lengthy :-(   \n",
       "\n",
       "                                    clean_punctuation  \\\n",
       "0  I like this books very much It is VERY INTERESTING   \n",
       "1      Do not like this book so boring 2 Too lengthy    \n",
       "\n",
       "                                          clean_lower  \\\n",
       "0  i like this books very much it is very interesting   \n",
       "1      do not like this book so boring 2 too lengthy    \n",
       "\n",
       "                                         clean_number  \\\n",
       "0  i like this books very much it is very interesting   \n",
       "1       do not like this book so boring  too lengthy    \n",
       "\n",
       "                                                      token_data  \\\n",
       "0  [i, like, this, books, very, much, it, is, very, interesting]   \n",
       "1          [do, not, like, this, book, so, boring, too, lengthy]   \n",
       "\n",
       "                   clean_xstopwords  \n",
       "0  [like, books, much, interesting]  \n",
       "1     [like, book, boring, lengthy]  "
      ]
     },
     "execution_count": 54,
     "metadata": {},
     "output_type": "execute_result"
    }
   ],
   "source": [
    "#Applying the remove_stopwords function to the 'token_data' column and storing the result in a new column 'clean_xstopwords'\n",
    "data['clean_xstopwords'] = data['token_data'].apply(remove_stopwords)\n",
    "data"
   ]
  },
  {
   "cell_type": "markdown",
   "id": "43514c7d",
   "metadata": {},
   "source": [
    "# Step 6: Perform word stemming using Porter Stemmer in nltk library"
   ]
  },
  {
   "cell_type": "code",
   "execution_count": 25,
   "id": "f850b157",
   "metadata": {},
   "outputs": [],
   "source": [
    "#importing the Stemming function from nltk library\n",
    "from nltk.stem.porter import PorterStemmer"
   ]
  },
  {
   "cell_type": "code",
   "execution_count": 26,
   "id": "2d56683e",
   "metadata": {},
   "outputs": [],
   "source": [
    "#defining the object for stemming\n",
    "porter_stemmer = PorterStemmer()"
   ]
  },
  {
   "cell_type": "code",
   "execution_count": 57,
   "id": "28eb7bc4",
   "metadata": {},
   "outputs": [],
   "source": [
    "#defining a function for stemming\n",
    "def stemming(text):\n",
    "    stem_text = []\n",
    "    for word in text:\n",
    "        stemmed_word = porter_stemmer.stem(word)\n",
    "        stem_text.append(stemmed_word)\n",
    "    return stem_text"
   ]
  },
  {
   "cell_type": "code",
   "execution_count": 56,
   "id": "3c7643dc",
   "metadata": {
    "scrolled": true
   },
   "outputs": [
    {
     "data": {
      "text/html": [
       "<div>\n",
       "<style scoped>\n",
       "    .dataframe tbody tr th:only-of-type {\n",
       "        vertical-align: middle;\n",
       "    }\n",
       "\n",
       "    .dataframe tbody tr th {\n",
       "        vertical-align: top;\n",
       "    }\n",
       "\n",
       "    .dataframe thead th {\n",
       "        text-align: right;\n",
       "    }\n",
       "</style>\n",
       "<table border=\"1\" class=\"dataframe\">\n",
       "  <thead>\n",
       "    <tr style=\"text-align: right;\">\n",
       "      <th></th>\n",
       "      <th>Review</th>\n",
       "      <th>clean_punctuation</th>\n",
       "      <th>clean_lower</th>\n",
       "      <th>clean_number</th>\n",
       "      <th>token_data</th>\n",
       "      <th>clean_xstopwords</th>\n",
       "      <th>clean_stemmed</th>\n",
       "    </tr>\n",
       "  </thead>\n",
       "  <tbody>\n",
       "    <tr>\n",
       "      <th>0</th>\n",
       "      <td>I like this books very much!!! It is VERY INTERESTING..</td>\n",
       "      <td>I like this books very much It is VERY INTERESTING</td>\n",
       "      <td>i like this books very much it is very interesting</td>\n",
       "      <td>i like this books very much it is very interesting</td>\n",
       "      <td>[i, like, this, books, very, much, it, is, very, interesting]</td>\n",
       "      <td>[like, books, much, interesting]</td>\n",
       "      <td>[like, book, much, interest]</td>\n",
       "    </tr>\n",
       "    <tr>\n",
       "      <th>1</th>\n",
       "      <td>Do not like this book. so boring 2. Too lengthy :-(</td>\n",
       "      <td>Do not like this book so boring 2 Too lengthy</td>\n",
       "      <td>do not like this book so boring 2 too lengthy</td>\n",
       "      <td>do not like this book so boring  too lengthy</td>\n",
       "      <td>[do, not, like, this, book, so, boring, too, lengthy]</td>\n",
       "      <td>[like, book, boring, lengthy]</td>\n",
       "      <td>[like, book, bore, lengthi]</td>\n",
       "    </tr>\n",
       "  </tbody>\n",
       "</table>\n",
       "</div>"
      ],
      "text/plain": [
       "                                                    Review  \\\n",
       "0  I like this books very much!!! It is VERY INTERESTING..   \n",
       "1      Do not like this book. so boring 2. Too lengthy :-(   \n",
       "\n",
       "                                    clean_punctuation  \\\n",
       "0  I like this books very much It is VERY INTERESTING   \n",
       "1      Do not like this book so boring 2 Too lengthy    \n",
       "\n",
       "                                          clean_lower  \\\n",
       "0  i like this books very much it is very interesting   \n",
       "1      do not like this book so boring 2 too lengthy    \n",
       "\n",
       "                                         clean_number  \\\n",
       "0  i like this books very much it is very interesting   \n",
       "1       do not like this book so boring  too lengthy    \n",
       "\n",
       "                                                      token_data  \\\n",
       "0  [i, like, this, books, very, much, it, is, very, interesting]   \n",
       "1          [do, not, like, this, book, so, boring, too, lengthy]   \n",
       "\n",
       "                   clean_xstopwords                 clean_stemmed  \n",
       "0  [like, books, much, interesting]  [like, book, much, interest]  \n",
       "1     [like, book, boring, lengthy]   [like, book, bore, lengthi]  "
      ]
     },
     "execution_count": 56,
     "metadata": {},
     "output_type": "execute_result"
    }
   ],
   "source": [
    "#applying the stemming function to the 'clean_xstopwords' column and storing the result in a new column 'clean_stemmed'\n",
    "data['clean_stemmed'] = data['clean_xstopwords'].apply(stemming)\n",
    "data"
   ]
  },
  {
   "cell_type": "markdown",
   "id": "1ba2ed6a",
   "metadata": {},
   "source": [
    "# Step 7: Perform word lemmatization using WordNetLemmatizer( ) in nltk library"
   ]
  },
  {
   "cell_type": "code",
   "execution_count": 29,
   "id": "4de3df27",
   "metadata": {},
   "outputs": [
    {
     "name": "stderr",
     "output_type": "stream",
     "text": [
      "[nltk_data] Downloading package wordnet to\n",
      "[nltk_data]     C:\\Users\\laila\\AppData\\Roaming\\nltk_data...\n",
      "[nltk_data]   Package wordnet is already up-to-date!\n"
     ]
    },
    {
     "data": {
      "text/plain": [
       "True"
      ]
     },
     "execution_count": 29,
     "metadata": {},
     "output_type": "execute_result"
    }
   ],
   "source": [
    "nltk.download('wordnet')"
   ]
  },
  {
   "cell_type": "code",
   "execution_count": 30,
   "id": "0dda39f0",
   "metadata": {},
   "outputs": [],
   "source": [
    "#importing the Lemmatizer function from nltk library\n",
    "from nltk.stem import WordNetLemmatizer"
   ]
  },
  {
   "cell_type": "code",
   "execution_count": 31,
   "id": "b29c2759",
   "metadata": {},
   "outputs": [],
   "source": [
    "#defining the object for Lemmatization\n",
    "wordnet_lemmatizer = WordNetLemmatizer()"
   ]
  },
  {
   "cell_type": "code",
   "execution_count": 58,
   "id": "61c0b815",
   "metadata": {},
   "outputs": [],
   "source": [
    "#defining the function for lemmatization\n",
    "def lemmatizer(text):\n",
    "    lemm_text = []\n",
    "    for word in text:\n",
    "        lemmatized_word = wordnet_lemmatizer.lemmatize(word)\n",
    "        lemm_text.append(lemmatized_word)\n",
    "    return lemm_text"
   ]
  },
  {
   "cell_type": "code",
   "execution_count": 33,
   "id": "e4f7bd04",
   "metadata": {},
   "outputs": [],
   "source": [
    "#applying the lemmatizer function to the 'clean_xstopwords' column and storing the result in a new column 'clean_lemmatized1'\n",
    "data['clean_lemmatized1']=data['clean_xstopwords'].apply(lemmatizer)"
   ]
  },
  {
   "cell_type": "code",
   "execution_count": 59,
   "id": "ca0077c9",
   "metadata": {},
   "outputs": [
    {
     "data": {
      "text/html": [
       "<div>\n",
       "<style scoped>\n",
       "    .dataframe tbody tr th:only-of-type {\n",
       "        vertical-align: middle;\n",
       "    }\n",
       "\n",
       "    .dataframe tbody tr th {\n",
       "        vertical-align: top;\n",
       "    }\n",
       "\n",
       "    .dataframe thead th {\n",
       "        text-align: right;\n",
       "    }\n",
       "</style>\n",
       "<table border=\"1\" class=\"dataframe\">\n",
       "  <thead>\n",
       "    <tr style=\"text-align: right;\">\n",
       "      <th></th>\n",
       "      <th>Review</th>\n",
       "      <th>clean_punctuation</th>\n",
       "      <th>clean_lower</th>\n",
       "      <th>clean_number</th>\n",
       "      <th>token_data</th>\n",
       "      <th>clean_xstopwords</th>\n",
       "      <th>clean_stemmed</th>\n",
       "      <th>clean_lemmatized2</th>\n",
       "    </tr>\n",
       "  </thead>\n",
       "  <tbody>\n",
       "    <tr>\n",
       "      <th>0</th>\n",
       "      <td>I like this books very much!!! It is VERY INTERESTING..</td>\n",
       "      <td>I like this books very much It is VERY INTERESTING</td>\n",
       "      <td>i like this books very much it is very interesting</td>\n",
       "      <td>i like this books very much it is very interesting</td>\n",
       "      <td>[i, like, this, books, very, much, it, is, very, interesting]</td>\n",
       "      <td>[like, books, much, interesting]</td>\n",
       "      <td>[like, book, much, interest]</td>\n",
       "      <td>[like, book, much, interest]</td>\n",
       "    </tr>\n",
       "    <tr>\n",
       "      <th>1</th>\n",
       "      <td>Do not like this book. so boring 2. Too lengthy :-(</td>\n",
       "      <td>Do not like this book so boring 2 Too lengthy</td>\n",
       "      <td>do not like this book so boring 2 too lengthy</td>\n",
       "      <td>do not like this book so boring  too lengthy</td>\n",
       "      <td>[do, not, like, this, book, so, boring, too, lengthy]</td>\n",
       "      <td>[like, book, boring, lengthy]</td>\n",
       "      <td>[like, book, bore, lengthi]</td>\n",
       "      <td>[like, book, bore, lengthi]</td>\n",
       "    </tr>\n",
       "  </tbody>\n",
       "</table>\n",
       "</div>"
      ],
      "text/plain": [
       "                                                    Review  \\\n",
       "0  I like this books very much!!! It is VERY INTERESTING..   \n",
       "1      Do not like this book. so boring 2. Too lengthy :-(   \n",
       "\n",
       "                                    clean_punctuation  \\\n",
       "0  I like this books very much It is VERY INTERESTING   \n",
       "1      Do not like this book so boring 2 Too lengthy    \n",
       "\n",
       "                                          clean_lower  \\\n",
       "0  i like this books very much it is very interesting   \n",
       "1      do not like this book so boring 2 too lengthy    \n",
       "\n",
       "                                         clean_number  \\\n",
       "0  i like this books very much it is very interesting   \n",
       "1       do not like this book so boring  too lengthy    \n",
       "\n",
       "                                                      token_data  \\\n",
       "0  [i, like, this, books, very, much, it, is, very, interesting]   \n",
       "1          [do, not, like, this, book, so, boring, too, lengthy]   \n",
       "\n",
       "                   clean_xstopwords                 clean_stemmed  \\\n",
       "0  [like, books, much, interesting]  [like, book, much, interest]   \n",
       "1     [like, book, boring, lengthy]   [like, book, bore, lengthi]   \n",
       "\n",
       "              clean_lemmatized2  \n",
       "0  [like, book, much, interest]  \n",
       "1   [like, book, bore, lengthi]  "
      ]
     },
     "execution_count": 59,
     "metadata": {},
     "output_type": "execute_result"
    }
   ],
   "source": [
    "#applying the lemmatizer function to the 'clean_stemmed' column and storing the result in a new column 'clean_lemmatized2'\n",
    "data['clean_lemmatized2']=data['clean_stemmed'].apply(lemmatizer)\n",
    "data"
   ]
  },
  {
   "cell_type": "code",
   "execution_count": null,
   "id": "5d553c8c",
   "metadata": {},
   "outputs": [],
   "source": []
  }
 ],
 "metadata": {
  "kernelspec": {
   "display_name": "Python 3 (ipykernel)",
   "language": "python",
   "name": "python3"
  },
  "language_info": {
   "codemirror_mode": {
    "name": "ipython",
    "version": 3
   },
   "file_extension": ".py",
   "mimetype": "text/x-python",
   "name": "python",
   "nbconvert_exporter": "python",
   "pygments_lexer": "ipython3",
   "version": "3.11.5"
  }
 },
 "nbformat": 4,
 "nbformat_minor": 5
}
