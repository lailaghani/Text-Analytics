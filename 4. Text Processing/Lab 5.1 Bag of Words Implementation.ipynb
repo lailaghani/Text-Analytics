{
 "cells": [
  {
   "cell_type": "code",
   "execution_count": 3,
   "id": "024471db",
   "metadata": {},
   "outputs": [
    {
     "name": "stdout",
     "output_type": "stream",
     "text": [
      "Step 1: List of Unique Words: ['it', 'was', 'worst', 'age', 'foolishness', 'the', 'best', 'of', 'wisdom', 'times']\n",
      "\n",
      "Step 2: Word Frequency Table:\n",
      "Word\tFrequency\n",
      "it\t4\n",
      "was\t4\n",
      "the\t4\n",
      "of\t4\n",
      "times\t2\n",
      "age\t2\n",
      "best\t1\n",
      "worst\t1\n",
      "wisdom\t1\n",
      "foolishness\t1\n",
      "\n",
      "Step 3: Document Vectors:\n",
      "Sentence: it was the best of times\n",
      "Vector: [1, 1, 1, 1, 1, 0, 1, 0, 0, 0]\n",
      "\n",
      "Sentence: it was the worst of times\n",
      "Vector: [1, 1, 1, 1, 1, 0, 0, 1, 0, 0]\n",
      "\n",
      "Sentence: it was the age of wisdom\n",
      "Vector: [1, 1, 1, 1, 0, 1, 0, 0, 1, 0]\n",
      "\n",
      "Sentence: it was the age of foolishness\n",
      "Vector: [1, 1, 1, 1, 0, 1, 0, 0, 0, 1]\n",
      "\n"
     ]
    }
   ],
   "source": [
    "from collections import Counter\n",
    "\n",
    "# Given list of sentences\n",
    "sentences = [\n",
    "    \"it was the best of times\",\n",
    "    \"it was the worst of times\",\n",
    "    \"it was the age of wisdom\",\n",
    "    \"it was the age of foolishness\"\n",
    "]\n",
    "\n",
    "# Step 1: List all unique words\n",
    "all_words = ' '.join(sentences).split()\n",
    "unique_words = list(set(all_words))\n",
    "\n",
    "# Step 2: Create word frequency table\n",
    "word_freq = Counter(all_words)\n",
    "sorted_word_freq = dict(sorted(word_freq.items(), key=lambda item: item[1], reverse=True))\n",
    "\n",
    "# Step 3: Create document vectors\n",
    "document_vectors = []\n",
    "for sentence in sentences:\n",
    "    sentence_words = sentence.split()\n",
    "    document_vector = [1 if word in sentence_words else 0 for word in sorted_word_freq.keys()]\n",
    "    document_vectors.append(document_vector)\n",
    "\n",
    "# Print the results\n",
    "print(\"Step 1: List of Unique Words:\", unique_words)\n",
    "print(\"\\nStep 2: Word Frequency Table:\")\n",
    "print(\"Word\\tFrequency\")\n",
    "for word, freq in sorted_word_freq.items():\n",
    "    print(f\"{word}\\t{freq}\")\n",
    "\n",
    "print(\"\\nStep 3: Document Vectors:\")\n",
    "for sentence, vector in zip(sentences, document_vectors):\n",
    "    print(f\"Sentence: {sentence}\\nVector: {vector}\\n\")\n"
   ]
  },
  {
   "cell_type": "code",
   "execution_count": null,
   "id": "85be0e54",
   "metadata": {},
   "outputs": [],
   "source": []
  }
 ],
 "metadata": {
  "kernelspec": {
   "display_name": "Python 3 (ipykernel)",
   "language": "python",
   "name": "python3"
  },
  "language_info": {
   "codemirror_mode": {
    "name": "ipython",
    "version": 3
   },
   "file_extension": ".py",
   "mimetype": "text/x-python",
   "name": "python",
   "nbconvert_exporter": "python",
   "pygments_lexer": "ipython3",
   "version": "3.11.5"
  }
 },
 "nbformat": 4,
 "nbformat_minor": 5
}
