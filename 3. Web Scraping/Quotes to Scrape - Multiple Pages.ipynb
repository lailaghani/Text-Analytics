{
 "cells": [
  {
   "cell_type": "code",
   "execution_count": 3,
   "id": "8576706a",
   "metadata": {},
   "outputs": [],
   "source": [
    "import requests\n",
    "from bs4 import BeautifulSoup\n",
    "import csv\n",
    "\n",
    "# Function to scrape quotes from a page\n",
    "def scrape_page(soup, quotes):\n",
    "    for quote in soup.find_all('div', class_='quote'):\n",
    "        text = quote.find('span', class_='text').text\n",
    "        author = quote.find('small', class_='author').text\n",
    "        tags = ', '.join(tag.text for tag in quote.find_all('a', class_='tag'))\n",
    "        quotes.append({'Text': text, 'Author': author, 'Tags': tags})\n",
    "\n",
    "# Base URL and headers\n",
    "base_url = 'https://quotes.toscrape.com'\n",
    "#headers = {'User-Agent': 'Mozilla/5.0'}\n",
    "\n",
    "# List to store quotes\n",
    "quotes = []\n",
    "\n",
    "# Function to scrape quotes from multiple pages\n",
    "def scrape_all_pages(url):\n",
    "    while url:\n",
    "        response = requests.get(url, headers=headers)\n",
    "        soup = BeautifulSoup(response.text, 'html.parser')\n",
    "        scrape_page(soup, quotes)\n",
    "        next_page = soup.find('li', class_='next')\n",
    "        url = base_url + next_page.find('a')['href'] if next_page else None\n",
    "\n",
    "# Scrape quotes from all pages\n",
    "scrape_all_pages(base_url)\n",
    "\n",
    "# Save quotes to CSV file\n",
    "with open('quotes2.csv', 'w', newline='', encoding='utf-8') as csvfile:\n",
    "    writer = csv.DictWriter(csvfile, fieldnames=['Text', 'Author', 'Tags'])\n",
    "    writer.writeheader()\n",
    "    writer.writerows(quotes)\n"
   ]
  },
  {
   "cell_type": "code",
   "execution_count": null,
   "id": "e4a0d07c",
   "metadata": {},
   "outputs": [],
   "source": []
  }
 ],
 "metadata": {
  "kernelspec": {
   "display_name": "Python 3 (ipykernel)",
   "language": "python",
   "name": "python3"
  },
  "language_info": {
   "codemirror_mode": {
    "name": "ipython",
    "version": 3
   },
   "file_extension": ".py",
   "mimetype": "text/x-python",
   "name": "python",
   "nbconvert_exporter": "python",
   "pygments_lexer": "ipython3",
   "version": "3.11.5"
  }
 },
 "nbformat": 4,
 "nbformat_minor": 5
}
