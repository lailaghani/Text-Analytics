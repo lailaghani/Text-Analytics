{
 "cells": [
  {
   "cell_type": "code",
   "execution_count": 1,
   "id": "7b74b859",
   "metadata": {},
   "outputs": [],
   "source": [
    "import re"
   ]
  },
  {
   "cell_type": "markdown",
   "id": "0094f7c2",
   "metadata": {},
   "source": [
    "# * asterisk/star metacharacter"
   ]
  },
  {
   "cell_type": "code",
   "execution_count": 6,
   "id": "390c8e55",
   "metadata": {},
   "outputs": [
    {
     "name": "stdout",
     "output_type": "stream",
     "text": [
      "['8', '23', '886', '4567', '78453']\n"
     ]
    }
   ],
   "source": [
    "str1 = \"Numbers are 8,23, 886, 4567, 78453\" \n",
    "# asterisk sign(*) to match 0 or more repetitions \n",
    "\n",
    "result = re.findall(r\"\\d\\d*\", str1) \n",
    "print(result) "
   ]
  },
  {
   "cell_type": "markdown",
   "id": "11aebd5b",
   "metadata": {},
   "source": [
    "# + Plus metacharacter"
   ]
  },
  {
   "cell_type": "code",
   "execution_count": 7,
   "id": "50474e4f",
   "metadata": {},
   "outputs": [
    {
     "name": "stdout",
     "output_type": "stream",
     "text": [
      "['23', '886', '4567', '78453']\n"
     ]
    }
   ],
   "source": [
    "str2 = \"Numbers are 8,23, 886, 4567, 78453\"\n",
    "# Plus sign(+) to match 1 or more repetitions\n",
    "\n",
    "result2 = re.findall(r\"\\d\\d+\", str1)\n",
    "print(result2)\n"
   ]
  },
  {
   "cell_type": "markdown",
   "id": "ed0fa26a",
   "metadata": {},
   "source": [
    "# Metacharacter    *   and    +\n",
    "* Used to match either zero, one or many occurrences\n",
    "+ Used to match either one or many occurrences"
   ]
  },
  {
   "cell_type": "code",
   "execution_count": 8,
   "id": "27e51043",
   "metadata": {},
   "outputs": [
    {
     "name": "stdout",
     "output_type": "stream",
     "text": [
      "['ct', 'cat']\n",
      "['cat']\n"
     ]
    }
   ],
   "source": [
    "str3 = \"ct likes cat\"\n",
    "\n",
    "result3 = re.findall('ca*t', str3)\n",
    "print(result3)\n",
    "\n",
    "result4 = re.findall('ca+t', str3)\n",
    "print(result4)"
   ]
  },
  {
   "cell_type": "markdown",
   "id": "3c2a558d",
   "metadata": {},
   "source": [
    "# Metacharacter    ?\n",
    "Used to match either one or zero occurrence"
   ]
  },
  {
   "cell_type": "code",
   "execution_count": 9,
   "id": "ce1a6bca",
   "metadata": {},
   "outputs": [
    {
     "name": "stdout",
     "output_type": "stream",
     "text": [
      "['copy-', 'copy']\n"
     ]
    }
   ],
   "source": [
    "str4 = \"poppy likes to copy-cat. bobby likes to copy things.\"\n",
    "\n",
    "result5 = re.findall('copy-?', str4)\n",
    "print(result5)"
   ]
  },
  {
   "cell_type": "markdown",
   "id": "bddcb6d7",
   "metadata": {},
   "source": [
    "# Metacharacter  { }\n",
    "Used to match the occurences based on the specified min and max values"
   ]
  },
  {
   "cell_type": "code",
   "execution_count": 5,
   "id": "03dcd874",
   "metadata": {},
   "outputs": [
    {
     "name": "stdout",
     "output_type": "stream",
     "text": [
      "['bk', 'book', 'boook', 'booooook']\n"
     ]
    }
   ],
   "source": [
    "str5 = \"poppy likes to read bks. bobby likes to read books. ronnie likes to read boooks. they all love booooooks\"\n",
    "\n",
    "result6 = re.findall('bo{0,6}k', str5)\n",
    "print(result6)\n",
    "                    "
   ]
  },
  {
   "cell_type": "code",
   "execution_count": 15,
   "id": "90623310",
   "metadata": {},
   "outputs": [
    {
     "name": "stdout",
     "output_type": "stream",
     "text": [
      "[]\n"
     ]
    }
   ],
   "source": [
    "sentence15 = re.findall ('\\d{2}-\\d{2}-\\d[-2:]', 'Ahmad BIT(IS) 15-05-2001, Johnny BCS(SE) 20-08-2000')\n",
    "print (sentence15) \n",
    " \n",
    "# Only the year will be displayed \n"
   ]
  },
  {
   "cell_type": "code",
   "execution_count": null,
   "id": "f6239f83",
   "metadata": {},
   "outputs": [],
   "source": []
  }
 ],
 "metadata": {
  "kernelspec": {
   "display_name": "Python 3 (ipykernel)",
   "language": "python",
   "name": "python3"
  },
  "language_info": {
   "codemirror_mode": {
    "name": "ipython",
    "version": 3
   },
   "file_extension": ".py",
   "mimetype": "text/x-python",
   "name": "python",
   "nbconvert_exporter": "python",
   "pygments_lexer": "ipython3",
   "version": "3.11.5"
  }
 },
 "nbformat": 4,
 "nbformat_minor": 5
}
